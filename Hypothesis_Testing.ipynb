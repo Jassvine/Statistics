{
  "nbformat": 4,
  "nbformat_minor": 0,
  "metadata": {
    "colab": {
      "name": "5.4 Statistics 5 - Hypothesis Testing.ipynb",
      "provenance": [],
      "include_colab_link": true
    },
    "kernelspec": {
      "name": "python3",
      "display_name": "Python 3"
    }
  },
  "cells": [
    {
      "cell_type": "markdown",
      "metadata": {
        "id": "view-in-github",
        "colab_type": "text"
      },
      "source": [
        "<a href=\"https://colab.research.google.com/github/Jassvine/Statistics/blob/main/Hypothesis_Testing.ipynb\" target=\"_parent\"><img src=\"https://colab.research.google.com/assets/colab-badge.svg\" alt=\"Open In Colab\"/></a>"
      ]
    },
    {
      "cell_type": "markdown",
      "metadata": {
        "id": "bFFy2PZRY1pD"
      },
      "source": [
        "# Hypothesis Testing\n",
        "\n",
        "### 1. Creating a Sample Distribution from our Control and Experimental groups"
      ]
    },
    {
      "cell_type": "code",
      "metadata": {
        "id": "D_96zN1sY9FO",
        "colab": {
          "base_uri": "https://localhost:8080/",
          "height": 206
        },
        "outputId": "e2effb29-52e2-4c9a-e267-25ec63d0d797"
      },
      "source": [
        "import pandas as pd\n",
        "import numpy as np\n",
        "import seaborn as sns\n",
        "import matplotlib.pyplot as plt\n",
        "\n",
        "file_name = \"https://raw.githubusercontent.com/rajeevratan84/datascienceforbusiness/master/drug_trial.csv\"\n",
        "df = pd.read_csv(file_name)\n",
        "df.head()"
      ],
      "execution_count": 1,
      "outputs": [
        {
          "output_type": "execute_result",
          "data": {
            "text/html": [
              "<div>\n",
              "<style scoped>\n",
              "    .dataframe tbody tr th:only-of-type {\n",
              "        vertical-align: middle;\n",
              "    }\n",
              "\n",
              "    .dataframe tbody tr th {\n",
              "        vertical-align: top;\n",
              "    }\n",
              "\n",
              "    .dataframe thead th {\n",
              "        text-align: right;\n",
              "    }\n",
              "</style>\n",
              "<table border=\"1\" class=\"dataframe\">\n",
              "  <thead>\n",
              "    <tr style=\"text-align: right;\">\n",
              "      <th></th>\n",
              "      <th>group</th>\n",
              "      <th>mean_duration</th>\n",
              "    </tr>\n",
              "  </thead>\n",
              "  <tbody>\n",
              "    <tr>\n",
              "      <th>0</th>\n",
              "      <td>Control</td>\n",
              "      <td>7</td>\n",
              "    </tr>\n",
              "    <tr>\n",
              "      <th>1</th>\n",
              "      <td>Control</td>\n",
              "      <td>5</td>\n",
              "    </tr>\n",
              "    <tr>\n",
              "      <th>2</th>\n",
              "      <td>Control</td>\n",
              "      <td>4</td>\n",
              "    </tr>\n",
              "    <tr>\n",
              "      <th>3</th>\n",
              "      <td>Control</td>\n",
              "      <td>5</td>\n",
              "    </tr>\n",
              "    <tr>\n",
              "      <th>4</th>\n",
              "      <td>Control</td>\n",
              "      <td>8</td>\n",
              "    </tr>\n",
              "  </tbody>\n",
              "</table>\n",
              "</div>"
            ],
            "text/plain": [
              "     group  mean_duration\n",
              "0  Control              7\n",
              "1  Control              5\n",
              "2  Control              4\n",
              "3  Control              5\n",
              "4  Control              8"
            ]
          },
          "metadata": {
            "tags": []
          },
          "execution_count": 1
        }
      ]
    },
    {
      "cell_type": "code",
      "metadata": {
        "id": "Grz30a-mc7iv",
        "colab": {
          "base_uri": "https://localhost:8080/"
        },
        "outputId": "f7e66c9e-5f0e-4adf-83e6-4126fbb03d8e"
      },
      "source": [
        "df['group'].unique()"
      ],
      "execution_count": 2,
      "outputs": [
        {
          "output_type": "execute_result",
          "data": {
            "text/plain": [
              "array(['Control', 'Experimental'], dtype=object)"
            ]
          },
          "metadata": {
            "tags": []
          },
          "execution_count": 2
        }
      ]
    },
    {
      "cell_type": "code",
      "metadata": {
        "id": "dv7cCc38Y2NG",
        "colab": {
          "base_uri": "https://localhost:8080/"
        },
        "outputId": "5281acab-856f-458a-d445-a2646d1a5f6f"
      },
      "source": [
        "# Show means of Control and Experimental groups\n",
        "\n",
        "control_mean =  df[df['group'] == 'Control'].mean()\n",
        "experiment_mean = df[df['group'] == 'Experimental'].mean()\n",
        "print(\"Control Mean = \" +str(control_mean))\n",
        "print(\"Experimental Mean = \" + str(experiment_mean))"
      ],
      "execution_count": 3,
      "outputs": [
        {
          "output_type": "stream",
          "text": [
            "Control Mean = mean_duration    5.4\n",
            "dtype: float64\n",
            "Experimental Mean = mean_duration    4.8\n",
            "dtype: float64\n"
          ],
          "name": "stdout"
        }
      ]
    },
    {
      "cell_type": "markdown",
      "metadata": {
        "id": "EJ0zZGWngIHz"
      },
      "source": [
        "# Let's run 10,000 Permutations "
      ]
    },
    {
      "cell_type": "code",
      "metadata": {
        "id": "s3mQo1CXc0rC",
        "colab": {
          "base_uri": "https://localhost:8080/",
          "height": 355
        },
        "outputId": "5b7f8940-f306-463c-ca7f-00353a550d57"
      },
      "source": [
        "mean_difference = control_mean - experiment_mean\n",
        "data_points = list(df['mean_duration']) #mean duration is the table up there i.e : how long flu lasted/person\n",
        "mean_differences = []\n",
        "number_of_iterations = 10000\n",
        "\n",
        "for i in range(number_of_iterations):\n",
        "    group_1 = []\n",
        "    group_2 = []\n",
        "    for data_point in data_points:\n",
        "        random_assignment = np.random.randint(0,2)==True\n",
        "        if random_assignment:\n",
        "            group_1.append(data_point)\n",
        "        else:\n",
        "            group_2.append(data_point)\n",
        "#what are we doing here? \n",
        "#1. empty array for g1 and g2\n",
        "#2. add randomiser\n",
        "#3. If true = g1 if false g2\n",
        "#4. it goes through all the samples in random,swaps around and classifies\n",
        "\n",
        "    trial_mean_difference = np.mean(group_2) - np.mean(group_1)\n",
        "    mean_differences.append(trial_mean_difference)\n",
        "    \n",
        "print(\"Mean Differences Mean - \" + str(np.array(mean_differences).mean()))    \n",
        "# Generate Frequency or Histogram Plot\n",
        "sns.distplot(mean_differences) #after swap, mean diff of g1 and g2"
      ],
      "execution_count": 4,
      "outputs": [
        {
          "output_type": "stream",
          "text": [
            "Mean Differences Mean - 0.0011636439175346975\n"
          ],
          "name": "stdout"
        },
        {
          "output_type": "stream",
          "text": [
            "/usr/local/lib/python3.7/dist-packages/seaborn/distributions.py:2557: FutureWarning: `distplot` is a deprecated function and will be removed in a future version. Please adapt your code to use either `displot` (a figure-level function with similar flexibility) or `histplot` (an axes-level function for histograms).\n",
            "  warnings.warn(msg, FutureWarning)\n"
          ],
          "name": "stderr"
        },
        {
          "output_type": "execute_result",
          "data": {
            "text/plain": [
              "<matplotlib.axes._subplots.AxesSubplot at 0x7f3c3ab5d390>"
            ]
          },
          "metadata": {
            "tags": []
          },
          "execution_count": 4
        },
        {
          "output_type": "display_data",
          "data": {
            "image/png": "[encoded data removed]",
            "text/plain": [
              "<Figure size 432x288 with 1 Axes>"
            ]
          },
          "metadata": {
            "tags": [],
            "needs_background": "light"
          }
        }
      ]
    },
    {
      "cell_type": "markdown",
      "metadata": {
        "id": "opGoftdBsU-v"
      },
      "source": [
        "## How many values exceed the mean difference of 0.6?"
      ]
    },
    {
      "cell_type": "code",
      "metadata": {
        "id": "vQCPaZy5fQDD",
        "colab": {
          "base_uri": "https://localhost:8080/"
        },
        "outputId": "bc8cb960-d8e0-4d3a-f067-c5d44752decd"
      },
      "source": [
        "# Convert our mean_differences to a data frame for easy manipulation\n",
        "mean_differences = pd.DataFrame(mean_differences)\n",
        "\n",
        "# Get the length of this series to count the number of value exceeding 0.6\n",
        "exceeds_mean_diff = len(mean_differences[mean_differences[0] >= 0.6])\n",
        "print(exceeds_mean_diff)"
      ],
      "execution_count": 5,
      "outputs": [
        {
          "output_type": "stream",
          "text": [
            "344\n"
          ],
          "name": "stdout"
        }
      ]
    },
    {
      "cell_type": "markdown",
      "metadata": {
        "id": "S0AgRZYysnix"
      },
      "source": [
        "## Calculating the P-Value"
      ]
    },
    {
      "cell_type": "code",
      "metadata": {
        "id": "hQ7kPvxgspGL",
        "colab": {
          "base_uri": "https://localhost:8080/"
        },
        "outputId": "60022e44-c29f-4c1a-c494-cf64b336b183"
      },
      "source": [
        "# Number of trials we performed was 10,000\n",
        "# P-Value is equal to the \n",
        "\n",
        "p_value = exceeds_mean_diff / number_of_iterations\n",
        "print(p_value)"
      ],
      "execution_count": 6,
      "outputs": [
        {
          "output_type": "stream",
          "text": [
            "0.0344\n"
          ],
          "name": "stdout"
        }
      ]
    },
    {
      "cell_type": "code",
      "metadata": {
        "id": "a0sGrhlfsm95"
      },
      "source": [
        ""
      ],
      "execution_count": null,
      "outputs": []
    },
    {
      "cell_type": "code",
      "metadata": {
        "id": "DIeht06Kgh9q"
      },
      "source": [
        ""
      ],
      "execution_count": null,
      "outputs": []
    },
    {
      "cell_type": "code",
      "metadata": {
        "id": "ogODBU1ar_bo"
      },
      "source": [
        ""
      ],
      "execution_count": null,
      "outputs": []
    },
    {
      "cell_type": "code",
      "metadata": {
        "id": "3jYQnZjrsBlx"
      },
      "source": [
        ""
      ],
      "execution_count": null,
      "outputs": []
    }
  ]
}
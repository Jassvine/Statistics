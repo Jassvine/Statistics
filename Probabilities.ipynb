{
  "nbformat": 4,
  "nbformat_minor": 0,
  "metadata": {
    "colab": {
      "name": "5.3 Statistics 4 - Probabilities.ipynb",
      "provenance": [],
      "collapsed_sections": [],
      "include_colab_link": true
    },
    "kernelspec": {
      "name": "python3",
      "display_name": "Python 3"
    }
  },
  "cells": [
    {
      "cell_type": "markdown",
      "metadata": {
        "id": "view-in-github",
        "colab_type": "text"
      },
      "source": [
        "<a href=\"https://colab.research.google.com/github/Jassvine/Statistics/blob/main/Probabilities.ipynb\" target=\"_parent\"><img src=\"https://colab.research.google.com/assets/colab-badge.svg\" alt=\"Open In Colab\"/></a>"
      ]
    },
    {
      "cell_type": "markdown",
      "metadata": {
        "id": "92SZ7G-IDcqr"
      },
      "source": [
        "# Probabilities"
      ]
    },
    {
      "cell_type": "code",
      "metadata": {
        "id": "FFArRCZhDfd2",
        "colab": {
          "base_uri": "https://localhost:8080/"
        },
        "outputId": "3015753b-dff0-4c40-edbe-0a1933888be7"
      },
      "source": [
        "from numpy.random import seed, randint\n",
        "\n",
        "seed(1)\n",
        "\n",
        "def coin_toss(flips):\n",
        "  heads = 0\n",
        "  tails = 0\n",
        "  for i in range(0,flips):\n",
        "    if randint(0, 2) == 1:\n",
        "        heads += 1 #everytime we get heads add one\n",
        "    else:\n",
        "        tails += 1 #everytime we get tails  add one\n",
        "  return heads/flips\n",
        "\n",
        "coin_toss(1000)"
      ],
      "execution_count": 2,
      "outputs": [
        {
          "output_type": "execute_result",
          "data": {
            "text/plain": [
              "0.478"
            ]
          },
          "metadata": {
            "tags": []
          },
          "execution_count": 2
        }
      ]
    },
    {
      "cell_type": "markdown",
      "metadata": {
        "id": "qxrqkgZ2GIGI"
      },
      "source": [
        "### Let's store the results of coin toss simulations"
      ]
    },
    {
      "cell_type": "code",
      "metadata": {
        "id": "0Tvz2yL9DiIQ"
      },
      "source": [
        "probabilities = []\n",
        "for i in range(1,1000):\n",
        "  results = (i,coin_toss(i))\n",
        "  probabilities.append(results)"
      ],
      "execution_count": 3,
      "outputs": []
    },
    {
      "cell_type": "code",
      "metadata": {
        "id": "_5-DbU6lFIPe",
        "colab": {
          "base_uri": "https://localhost:8080/",
          "height": 519
        },
        "outputId": "8ca70b61-f71a-45b1-8c8f-f4dc96990cd4"
      },
      "source": [
        "# Convert our data to a dataframe\n",
        "import pandas as pd\n",
        "\n",
        "df = pd.DataFrame(probabilities)\n",
        "df.columns = ['Number of Coin Tosses', 'Probability']\n",
        "df.head(15)"
      ],
      "execution_count": 4,
      "outputs": [
        {
          "output_type": "execute_result",
          "data": {
            "text/html": [
              "<div>\n",
              "<style scoped>\n",
              "    .dataframe tbody tr th:only-of-type {\n",
              "        vertical-align: middle;\n",
              "    }\n",
              "\n",
              "    .dataframe tbody tr th {\n",
              "        vertical-align: top;\n",
              "    }\n",
              "\n",
              "    .dataframe thead th {\n",
              "        text-align: right;\n",
              "    }\n",
              "</style>\n",
              "<table border=\"1\" class=\"dataframe\">\n",
              "  <thead>\n",
              "    <tr style=\"text-align: right;\">\n",
              "      <th></th>\n",
              "      <th>Number of Coin Tosses</th>\n",
              "      <th>Probability</th>\n",
              "    </tr>\n",
              "  </thead>\n",
              "  <tbody>\n",
              "    <tr>\n",
              "      <th>0</th>\n",
              "      <td>1</td>\n",
              "      <td>0.000000</td>\n",
              "    </tr>\n",
              "    <tr>\n",
              "      <th>1</th>\n",
              "      <td>2</td>\n",
              "      <td>0.000000</td>\n",
              "    </tr>\n",
              "    <tr>\n",
              "      <th>2</th>\n",
              "      <td>3</td>\n",
              "      <td>0.333333</td>\n",
              "    </tr>\n",
              "    <tr>\n",
              "      <th>3</th>\n",
              "      <td>4</td>\n",
              "      <td>0.500000</td>\n",
              "    </tr>\n",
              "    <tr>\n",
              "      <th>4</th>\n",
              "      <td>5</td>\n",
              "      <td>0.600000</td>\n",
              "    </tr>\n",
              "    <tr>\n",
              "      <th>5</th>\n",
              "      <td>6</td>\n",
              "      <td>1.000000</td>\n",
              "    </tr>\n",
              "    <tr>\n",
              "      <th>6</th>\n",
              "      <td>7</td>\n",
              "      <td>0.571429</td>\n",
              "    </tr>\n",
              "    <tr>\n",
              "      <th>7</th>\n",
              "      <td>8</td>\n",
              "      <td>0.375000</td>\n",
              "    </tr>\n",
              "    <tr>\n",
              "      <th>8</th>\n",
              "      <td>9</td>\n",
              "      <td>0.111111</td>\n",
              "    </tr>\n",
              "    <tr>\n",
              "      <th>9</th>\n",
              "      <td>10</td>\n",
              "      <td>0.700000</td>\n",
              "    </tr>\n",
              "    <tr>\n",
              "      <th>10</th>\n",
              "      <td>11</td>\n",
              "      <td>0.636364</td>\n",
              "    </tr>\n",
              "    <tr>\n",
              "      <th>11</th>\n",
              "      <td>12</td>\n",
              "      <td>0.416667</td>\n",
              "    </tr>\n",
              "    <tr>\n",
              "      <th>12</th>\n",
              "      <td>13</td>\n",
              "      <td>0.692308</td>\n",
              "    </tr>\n",
              "    <tr>\n",
              "      <th>13</th>\n",
              "      <td>14</td>\n",
              "      <td>0.357143</td>\n",
              "    </tr>\n",
              "    <tr>\n",
              "      <th>14</th>\n",
              "      <td>15</td>\n",
              "      <td>0.533333</td>\n",
              "    </tr>\n",
              "  </tbody>\n",
              "</table>\n",
              "</div>"
            ],
            "text/plain": [
              "    Number of Coin Tosses  Probability\n",
              "0                       1     0.000000\n",
              "1                       2     0.000000\n",
              "2                       3     0.333333\n",
              "3                       4     0.500000\n",
              "4                       5     0.600000\n",
              "5                       6     1.000000\n",
              "6                       7     0.571429\n",
              "7                       8     0.375000\n",
              "8                       9     0.111111\n",
              "9                      10     0.700000\n",
              "10                     11     0.636364\n",
              "11                     12     0.416667\n",
              "12                     13     0.692308\n",
              "13                     14     0.357143\n",
              "14                     15     0.533333"
            ]
          },
          "metadata": {
            "tags": []
          },
          "execution_count": 4
        }
      ]
    },
    {
      "cell_type": "code",
      "metadata": {
        "id": "Vik--R1FFOOR",
        "colab": {
          "base_uri": "https://localhost:8080/",
          "height": 401
        },
        "outputId": "3eb63f5f-1ee4-4dfc-9d10-4648c16fa89a"
      },
      "source": [
        "# Now let's create our plot\n",
        "import matplotlib.pyplot as plt\n",
        "import seaborn as sns\n",
        "\n",
        "sns.relplot(x=\"Number of Coin Tosses\", y=\"Probability\", ci=None, size=1, kind=\"line\", data=df)\n",
        "plt.axhline(0.5, color = 'Red', label = '0.5')"
      ],
      "execution_count": 5,
      "outputs": [
        {
          "output_type": "execute_result",
          "data": {
            "text/plain": [
              "<matplotlib.lines.Line2D at 0x7fea35715bd0>"
            ]
          },
          "metadata": {
            "tags": []
          },
          "execution_count": 5
        },
        {
          "output_type": "display_data",
          "data": {
            "image/png": "[encoded data removed]",
            "text/plain": [
              "<Figure size 402.375x360 with 1 Axes>"
            ]
          },
          "metadata": {
            "tags": [],
            "needs_background": "light"
          }
        }
      ]
    }
  ]
}